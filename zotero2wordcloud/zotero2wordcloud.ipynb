{
 "cells": [
  {
   "cell_type": "markdown",
   "metadata": {},
   "source": [
    "# Create a wordcloud from the abstracts of papers in a Zotero collection\n",
    "\n",
    "This code builds a word cloud from abstracts of papers in a specific collection of your Zotero library. \n",
    "\n",
    "It relies on three packages: \n",
    "* [Pyzotero](https://pyzotero.readthedocs.io/en/)\n",
    "* [anytree](https://anytree.readthedocs.io/)\n",
    "* [wordcloud](https://amueller.github.io/word_cloud/)"
   ]
  },
  {
   "cell_type": "markdown",
   "metadata": {},
   "source": [
    "## Setup"
   ]
  },
  {
   "cell_type": "code",
   "execution_count": 3,
   "metadata": {},
   "outputs": [],
   "source": [
    "from pyzotero import zotero\n",
    "from anytree import Node, RenderTree\n",
    "from anytree.importer import DictImporter\n",
    "from pprint import pprint\n",
    "import pickle\n",
    "from wordcloud import WordCloud\n",
    "import matplotlib.pyplot as plt\n",
    "\n",
    "def get_library_ID():\n",
    "    library_ID = input(f\"What is your library ID? [return for more details]: \")\n",
    "    if not library_ID:\n",
    "        print(\"See: https://pyzotero.readthedocs.io/en/latest/#getting-started-short-version\")\n",
    "        get_library_ID()\n",
    "    else:\n",
    "        return library_ID;\n",
    "\n",
    "def get_library_type():\n",
    "    library_type = input(f\"What is your library type? [return for more details]: \")\n",
    "    if not library_type:\n",
    "        print(\"See: https://pyzotero.readthedocs.io/en/latest/#getting-started-short-version\")\n",
    "        get_library_type()\n",
    "    else:\n",
    "        return library_type;\n",
    "                         \n",
    "def get_api_key():\n",
    "    api_key = input(f\"What is your library type? [return for more details]: \")\n",
    "    if not api_key:\n",
    "        print(\"See: https://pyzotero.readthedocs.io/en/latest/#getting-started-short-version\")\n",
    "        get_api_key()\n",
    "    else:\n",
    "        return api_key;\n",
    "\n",
    "library_ID = get_library_ID()\n",
    "library_type = get_library_type()\n",
    "api_key = get_api_key()\n",
    "                    \n",
    "zot = zotero.Zotero(library_ID, library_type, api_key)"
   ]
  },
  {
   "cell_type": "markdown",
   "metadata": {},
   "source": [
    "## Create a tree of Zotero collections\n",
    "### Pseudocode\n",
    "\n",
    "```\n",
    "create list of my collections called my_collections\n",
    "    note each collection will be a dictionary containing: {key:name,children:[],parent:key}\n",
    "create empty list of collections called root\n",
    "    note, this is where i'll store the nodes of the tree that don't have parents. \n",
    "\n",
    "def append_child_dict_to_parent(child_dict,parent_dict):\n",
    "    append child_dict to value of `children` key in parent_dict\n",
    "\n",
    "def recursive_add_child_to_parent(child_dict,parent_key,collection_list)\n",
    "    for each dictionary in collection_list:\n",
    "        if dictionary has the parent_key you are looking for:\n",
    "            append_child_dict_to_parent(child_dict,dictionary)\n",
    "        else if dictionary['children'] is not empty:\n",
    "            recursive_add_child_to_parent(child_dict,parent_key,dictionary_children_list)\n",
    "    remove child_dict from collection_list\n",
    "\n",
    "for each collection in my_collections:\n",
    "    if value of 'parent' key is False:\n",
    "        delete the 'parent' key:value pair for this collection\n",
    "        append this collection to root\n",
    "    else:\n",
    "        store parent value for this collection as parent_key\n",
    "        delete the 'parent' key:value pair for this collection\n",
    "        recursive_add_child_to_parent(collection,parent_key,my_collections)                            \n",
    "\n",
    "for each collection in my_collections:\n",
    "(this isn't the most efficient, but it works)\n",
    "    if this collection is listed in root:\n",
    "    print the tree for this collection\n",
    "```"
   ]
  },
  {
   "cell_type": "code",
   "execution_count": 2,
   "metadata": {},
   "outputs": [],
   "source": [
    "raw_collections = zot.collections()\n",
    "\n",
    "print(f\"Number of collections: {len(raw_collections)}\")"
   ]
  },
  {
   "cell_type": "code",
   "execution_count": 3,
   "metadata": {},
   "outputs": [],
   "source": [
    "# create list of my collections called my_collections\n",
    "# note each collection will be a dictionary containing: {key:name,children:[],parent:key}\n",
    "my_collections = []\n",
    "\n",
    "for collection in raw_collections:\n",
    "    my_collections.append({collection['key']:collection['data']['name']+'-'+str(collection['meta']['numItems']), 'children':[],'parent':collection['data']['parentCollection']})\n",
    "\n",
    "# create empty list of collections called root\n",
    "# note, this is where i'll store the nodes of the tree that don't have parents.\n",
    "root = []\n",
    "\n",
    "# define function to append child_dict to value of `children` key in parent_dict\n",
    "def append_child_dict_to_parent(child_dict,parent_dict):\n",
    "    # Add child_dict to the list of children\n",
    "    parent_dict['children'].append(child_dict)\n",
    "    return;\n",
    "\n",
    "# define recursive function to add a collection to it's parent\n",
    "def recursive_add_child_to_parent(child_dict,parent_key,collection_list):\n",
    "    for i in range(len(collection_list)):\n",
    "        if list(collection_list[i].keys())[0] == parent_key:\n",
    "            append_child_dict_to_parent(child_dict,collection_list[i])\n",
    "            break\n",
    "        elif len(collection_list[i]['children'])>0:\n",
    "            recursive_add_child_to_parent(child_dict,parent_key,collection_list[i]['children'])\n",
    "    for j in range(len(collection_list)):\n",
    "        if list(collection_list[j].keys())[0] == list(child_dict.keys())[0]:\n",
    "            break\n",
    "    return collection_list;\n",
    "\n",
    "\n",
    "for collection in my_collections:    \n",
    "    # store parent value for this collection as parent_key\n",
    "    parent_key = []\n",
    "    parent_key = collection['parent']\n",
    "    del collection['parent']\n",
    "    # if value of 'parent' key is False:\n",
    "    if parent_key==False:\n",
    "        #print('parent==False!')\n",
    "        #pprint(collection)\n",
    "        # append this collection to root\n",
    "        root.append(list(collection.values())[0])\n",
    "    else:\n",
    "        recursive_add_child_to_parent(collection,parent_key,my_collections)\n",
    "\n",
    "# Print trees\n",
    "importer = DictImporter()\n",
    "for collection in my_collections:\n",
    "    if list(collection.values())[0] in root:\n",
    "        branch = importer.import_(collection)\n",
    "        rendered_tree = str(RenderTree(branch))\n",
    "        rendered_tree = rendered_tree.replace('AnyNode(','').replace(')','').replace(\"'\",'').replace('=',': ')\n",
    "        print(f\"\\n {rendered_tree}\")"
   ]
  },
  {
   "cell_type": "markdown",
   "metadata": {},
   "source": [
    "## Retrieve all Zotero papers from the collection of interest\n",
    "\n",
    "This is done using the python package [Pyzotero](https://pyzotero.readthedocs.io/en/latest/). \n"
   ]
  },
  {
   "cell_type": "code",
   "execution_count": 4,
   "metadata": {},
   "outputs": [],
   "source": [
    "def choose_collection():\n",
    "    include_collection = []\n",
    "    include_collection = input(f\"Copy the key (all caps, aphanumeric) of the collection that you want to use: \")\n",
    "    for item in my_collections:\n",
    "        if include_collection in list(item.keys()):\n",
    "            collection_name = item[include_collection]\n",
    "            check_collection = input(f\"You chose {str(item[include_collection])}. \\n Do you want to proceed? y/[n]: \")\n",
    "            if check_collection.lower()=='y':\n",
    "                return include_collection, collection_name\n",
    "            else:\n",
    "                choose_collection()\n",
    "\n",
    "include_collection, collection_name = choose_collection()"
   ]
  },
  {
   "cell_type": "code",
   "execution_count": 5,
   "metadata": {},
   "outputs": [],
   "source": [
    "# Eventually want to change this so that the user specifies which collection here\n",
    "include_papers = []\n",
    "\n",
    "for item in zot.everything(zot.items()):\n",
    "    if 'collections' in item['data'] and include_collection in item['data']['collections']:\n",
    "        #print(\"Found an item from the collection!\")\n",
    "        include_papers.append(item)\n",
    "        \n",
    "print(f\"Number of items retrieved: {len(include_papers)}\")\n"
   ]
  },
  {
   "cell_type": "markdown",
   "metadata": {},
   "source": [
    "## Concatenate paper abstracts together and save as text file"
   ]
  },
  {
   "cell_type": "code",
   "execution_count": 6,
   "metadata": {},
   "outputs": []
    }
   ],
   "source": [
    "concatenated_abstracts = str()\n",
    "\n",
    "for item in include_papers:\n",
    "    concatenated_abstracts = concatenated_abstracts+' '+item['data']['abstractNote']\n",
    "    \n",
    "if len(concatenated_abstracts)>300:\n",
    "    print(f'Concatenated abstracts: \n {concatenated_abstracts[0:300]}')\n",
    "        print('...')\n",
    "        print(f'{concatenated_abstracts[-301:-1]}')\n",
    "else:\n",
    "        print(f'Concatenated abstracts: \n {concatenated_abstracts}')\n"
   ]
  },
  {
   "cell_type": "code",
   "execution_count": 7,
   "metadata": {},
   "outputs": [],
   "source": [
    "# Save text file of concatenated abstracts\n",
    "file = open(collection_name+'concatenated_abstracts.txt', 'wb')\n",
    "pickle.dump(concatenated_abstracts, file)\n",
    "file.close()"
   ]
  },
  {
   "cell_type": "markdown",
   "metadata": {},
   "source": [
    "## Create a word cloud from the concatenated abstract file\n",
    "\n",
    "For more information on customizing the word cloud, see [WordCloud on GitHub](https://github.com/amueller/word_cloud). Code here was taken from the [Minimal Example](https://github.com/amueller/word_cloud/blob/master/examples/simple.py)."
   ]
  },
  {
   "cell_type": "code",
   "execution_count": 8,
   "metadata": {},
   "outputs": [],
   "source": [
    "# Generate a word cloud image\n",
    "wordcloud = WordCloud(width=1200,height=600,scale=1).generate(concatenated_abstracts)\n",
    "\n",
    "# Display the generated image:\n",
    "# the matplotlib way:\n",
    "plt.imshow(wordcloud, interpolation='bilinear')\n",
    "plt.axis(\"off\")\n",
    "wordcloud.to_file(collection_name+'_abstract_wordcloud.png')\n",
    "\n",
    "# lower max_font_size\n",
    "wordcloud = WordCloud(width=1200,height=600,scale=1,max_font_size=150).generate(concatenated_abstracts)\n",
    "plt.figure()\n",
    "plt.imshow(wordcloud, interpolation=\"bilinear\")\n",
    "plt.axis(\"off\")\n",
    "plt.show()\n",
    "wordcloud.to_file(collection_name+'_abstract_wordcloud-max_150.png')"
   ]
  }
 ],
 "metadata": {
  "kernelspec": {
   "display_name": "Python 3",
   "language": "python",
   "name": "python3"
  },
  "language_info": {
   "codemirror_mode": {
    "name": "ipython",
    "version": 3
   },
   "file_extension": ".py",
   "mimetype": "text/x-python",
   "name": "python",
   "nbconvert_exporter": "python",
   "pygments_lexer": "ipython3",
   "version": "3.7.4"
  }
 },
 "nbformat": 4,
 "nbformat_minor": 4
}
